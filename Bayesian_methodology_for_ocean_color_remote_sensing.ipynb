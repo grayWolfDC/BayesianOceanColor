{
 "metadata": {
  "name": "",
  "signature": "sha256:bbcdc4f28a303891ba2b5bb31b42fdc7f6a9aae411f925930423d564eb22f2ad"
 },
 "nbformat": 3,
 "nbformat_minor": 0,
 "worksheets": [
  {
   "cells": [
    {
     "cell_type": "heading",
     "level": 3,
     "metadata": {},
     "source": [
      "1 - Introduction"
     ]
    },
    {
     "cell_type": "markdown",
     "metadata": {},
     "source": [
      "Here, I reproduce Frouin & Pelletier's 2013 theoretical and practical development of the application of a bayesian framework to ocean color remote sensing. Accordingly, this document includes:\n",
      "\n",
      "1. A formulation of the atmospheric correction problem at a certain depth of pysical modeling (?) using ANGULAR DECOUPLING. This yields...\n",
      "        a. a prior distribution suitable for use at a global scale\n",
      "        b. a noise model\n",
      "    \n",
      "2. A definition and implementation of numerical approximations of the expectation and covariance of the posterior distribution, i.e. a complete Bayesian solution. This is developed for the marine reflectance as well as for the atmospheric parameters. These quantities are retrieved simultaneously from the TOA reflectance. Measures of uncertainties are provided along with the retrievals.\n",
      "\n",
      "3. A definition and implementation of a model defining cases where this doesn't work on account of the observed TOA reflectance observed."
     ]
    },
    {
     "cell_type": "heading",
     "level": 3,
     "metadata": {},
     "source": [
      "2 - Problem, proposed solution and applications "
     ]
    },
    {
     "cell_type": "heading",
     "level": 5,
     "metadata": {},
     "source": [
      "    a) The inverse problem of atmospheric correction"
     ]
    },
    {
     "cell_type": "markdown",
     "metadata": {},
     "source": [
      "$L_{toa}$, the radiance measured by the sensor in a given spectral band, is used to compute bidirectional reflectance, $\\rho_{toa} as:\n",
      "\n",
      "$\\rho_{toa} = \\frac{\\pi L_{toa} } {F_s \\cos(\\theta_s)}$ \n",
      "\n",
      "...where,\n",
      "    \n",
      "* $\\rho_{toa}$: bidirectional reflectance;\n",
      "* $F_s$: extraterrestrial solar irradiance;\n",
      "* $\\theta$: sun zenith angle\n"
     ]
    },
    {
     "cell_type": "markdown",
     "metadata": {},
     "source": [
      "In clear sky conditions $\\rho_{toa}$ is modeled as:\n",
      "\n",
      "$\\rho_{toa}= T_g\\left[\\rho_{mol}+\\rho_{aer}+\\rho_{mol-g}+\\rho_{aer-g}+\\rho_{mol-aer}+\\rho_gt_a+ \\frac{T_a\\rho_f}{1-S_a\\rho_f}+\\frac{T_a\\rho_\\omega}{1-S_a\\rho_w}\\right]$               **(2.1)**,\n",
      "\n",
      "where...\n",
      "\n",
      "* $T_g$: gaseous transmittance (absorption of photons by $N_2O$, $O_2$, $O_3$, and $H_2O(g)$  )\n",
      "* $\\rho_{mol}$: molecular reflectance (multiple scattering of photons by molecules)\n",
      "* $\\rho_{aer}$: aerosol reflectance (multiple scattering of photons by aerosols)\n",
      "* $\\rho_{mol-g}$: interactions of molecules and photons reflected by a wavy surface\n",
      "* $\\rho_{aer-g}$: interactions of aerosoles and photons reflected by a wavy surface\n",
      "* $\\rho_{mol-aer}$: coupling between molecule-scattering and aerosol-scattering and -absorption.\n",
      "* $\\rho_g$: sun glint reflectance\n",
      "* $t_a$: direct transmittance of atm. along the sun-to-surface-to-sensor path\n",
      "* $T_a$: total (direct + diffuse) trasmittance of atm along sun-to-surface-to-sensor path\n",
      "* $\\rho_f$: backscattering of photons by whitecaps\n",
      "* $S_a$: spherical albedo of atm (*i.e.* successive photon interactions w/surface, atm., and surface again.\n",
      "* $\\rho_{\\omega}$: water reflectance \n"
     ]
    },
    {
     "cell_type": "markdown",
     "metadata": {},
     "source": [
      "$\\rho_{toa}$, from the atmosphere and surface, with only molecules considered and $\\rho_w = 0$ reduces to:\n",
      "\n",
      "$\\rho^0_{toa}=T_g\\left[\\rho_{mol} +\\rho_{mol-g} + \\rho_gt_{mol}+\\frac{T_{mol}\\rho_f}{1-S_{mol}\\rho_f}\\right]$          **(2.2)**, \n",
      "\n",
      "where...\n",
      "* $t_{mol}$: direct transmittance of molecules\n",
      "* $T_{mol}$: total transmittance of molecules\n",
      "* $S_{mol}$: spherical albedo for molecules\n",
      "\n",
      "*Note that the inside of (2.2) can be computed from atm pressure and wind speed, and $T_g$ can be approximated.*"
     ]
    },
    {
     "cell_type": "markdown",
     "metadata": {},
     "source": [
      "We define $\\rho$ and $\\rho_a$ as:\n",
      "\n",
      "$\\rho=\\frac{1}{T_g}(\\rho_{toa} - \\rho^0_{toa})$ **(2.3)**,\n",
      "\n",
      "and \n",
      "\n",
      "$\\rho_a=\\rho_{aer}+\\rho_{aer-g}+\\rho_{mol-aer}+\\rho_gt_{mol}+\\frac{T_a\\rho_f}{1-S_a\\rho_f}-\\frac{T_{mol}\\rho_f}{1-S_{mol}\\rho_f}$ **(2.4)**,\n",
      "\n",
      "which yields\n",
      "\n",
      "$\\rho = \\rho_a + \\frac{T_a\\rho_w}{1-S_a\\rho_w}$ **(2.5)**.\n",
      "\n",
      "These last three steps correct for gaseous absorption and remove molecular contribution. The result is an increase in the influence of the ocean signal on $\\rho$, and a decrease in the influence of air pressure and wind speed."
     ]
    },
    {
     "cell_type": "markdown",
     "metadata": {},
     "source": [
      "In reality measurement errors and model uncertainties need to be accounted for so that the theoretical model is mutated to a statistical model with the introduction of a random noise term, $\\epsilon$, such that :\n",
      "\n",
      "$\\rho=\\rho_a+\\frac{T_a\\rho_w}{1-S_a\\rho_w} + \\epsilon$ **(2.6)**.\n",
      "\n",
      "Note that the above is function of wavelength $\\lambda$, so that we have $y_i=\\rho_i(\\lambda_i)$\n",
      "\n",
      "*Finally, realize that atmospheric correction is estimating $\\rho_w$ from $y$ without knowledge of $\\rho_a$, $T_a$, and $S_a$. Furthermore, since only y is observed, atmospheric correction is only one part of the complete inverse problem of estimating both the atmospheric ($\\rho_a,T_a,S_a$) and oceanic ($\\rho_w$), even if interest is only in the latter.* "
     ]
    },
    {
     "cell_type": "heading",
     "level": 6,
     "metadata": {},
     "source": [
      "Quick aside: ill-posed inverse problems"
     ]
    },
    {
     "cell_type": "markdown",
     "metadata": {},
     "source": [
      "**Atmospheric correction is an ill-posed inverse problem** because different states of the atmosphere and of the ocean may correspond to very close values of the satellite signal. Thus several combinations of $\\rho_a$, $T_a$, $S_a$, and $\\rho_w$ might result in values of $\\rho$ that are within the $\\rho$ noise level."
     ]
    },
    {
     "cell_type": "code",
     "collapsed": false,
     "input": [
      "# Say we have:\n",
      "import numpy as np\n",
      "pw=np.linspace(0.02,0.04,50)\n",
      "ta=np.linspace(0.6,0.7,50)\n",
      "sa=ta\n",
      "pa=np.linspace(0.003,0.009,50)\n",
      "\n",
      "# let's pick a random selection from the set above:\n",
      "pW = pw[np.random.randint(0,50)]\n",
      "tA = ta[np.random.randint(0,50)]\n",
      "sA = sa[np.random.randint(0,50)]\n",
      "pA = pa[np.random.randint(0,50)]\n",
      "# let's get p for that combination\n",
      "def p_calc(pwat,tatm,satm,patm):\n",
      "    return patm+tatm*pwat / (1-satm*pwat)\n",
      "\n",
      "p=p_calc(pW,tA,sA,pA)\n",
      "# now let's write a function to sift through all possible combinations of pw,Ta,Sa,pA and \n",
      "# and given a noise level delta, see all the combinations that would return a p that is within \n",
      "# the noise level of our example:\n",
      "def findCombs(pw,ta,sa,pa,p,delt):\n",
      "    # Yeah, yeah, could be vectorized for much quicker computations, \n",
      "    # but I just need a simple way of getting numbers. Leave me alone...\n",
      "    # ...\n",
      "    # I said beat it!\n",
      "    pw_c=[]\n",
      "    ta_c=[]\n",
      "    sa_c=[]\n",
      "    pa_c=[]\n",
      "    for pwi in pw:\n",
      "        for tai in ta:\n",
      "            for sai in sa:\n",
      "                for pai in pa:\n",
      "                    pc = p_calc(pwi,tai,sai,pai)\n",
      "                    if np.abs(p-pc)<=delt:\n",
      "                        pw_c.append(pwi)\n",
      "                        ta_c.append(tai)\n",
      "                        sa_c.append(sai)\n",
      "                        pa_c.append(pai)\n",
      "    return pw_c,ta_c,sa_c,pa_c\n",
      "\n",
      "# lets test this with a noise level of 0.001...\n",
      "\n",
      "pwlist,talist,salist,palist=findCombs(pw,ta,sa,pa,p,0.001)"
     ],
     "language": "python",
     "metadata": {},
     "outputs": [],
     "prompt_number": 2
    },
    {
     "cell_type": "markdown",
     "metadata": {},
     "source": [
      "This example, where a $\\delta$ of 0.001 is actually justified by Frouin *et al.* (2013) yields..."
     ]
    },
    {
     "cell_type": "code",
     "collapsed": false,
     "input": [
      "print len(pwlist)/50.0**4"
     ],
     "language": "python",
     "metadata": {},
     "outputs": [
      {
       "output_type": "stream",
       "stream": "stdout",
       "text": [
        "0.14569232\n"
       ]
      }
     ],
     "prompt_number": 3
    },
    {
     "cell_type": "markdown",
     "metadata": {},
     "source": [
      "...~15% of all possible combinations that give a practically undifferentiable $\\rho$!!\n",
      "This was just for one wavelength (implicitely). If such calculations are propagated throughout the spectrum, one realizes that **many different reflectance spectra $\\rho_w$ are mapped to very close TOA reflectance spectra ($\\rho \\pm \\delta$) **. In the presence of noise on the measurements, the uncertainty on the retrieved marine reflectance can be pretty large. Therefore *it is important to define and attach a measure of uncertainty to the retrieval of the marine reflectance from space*.   "
     ]
    },
    {
     "cell_type": "heading",
     "level": 5,
     "metadata": {},
     "source": [
      "    b) Proposed Bayesian solution"
     ]
    },
    {
     "cell_type": "markdown",
     "metadata": {},
     "source": [
      "**Model framework**\n",
      "\n",
      "Let's look at a finite-dimension version of **(2.6)** evaluated at each wavelength $\\lambda_i$, $ i=1,2,...,d$. \n",
      "\n",
      "For this, let:\n",
      "$$x_{a,i} = (\\rho_a(\\lambda_i),T_a(\\lambda_i),S_a(\\lambda_i))$$ and $$x_{w,i} = \\rho_w(\\lambda_i), \\forall i=1,...,d$$\n",
      "And let:\n",
      "$$(x_{a,1}...x_{a,d}) \\in X_a \\subset \\mathbb{R}^{3d}$$ and $$x_w \\in X_w \\subset \\mathbb{R}^{d}$$\n",
      "$X_a$ and $X_w$ are constraints sets for the atmospheric parameters and the marine reflectance components, respectively. Thus the model is\n",
      "\n",
      "   $y=\\Phi(x_a,x_w) + \\epsilon$ **(2.7)**\n",
      "\n",
      "Here, $\\epsilon \\in \\mathbb{R}^d$ and $X_a\\times X_w \\rightarrow \\mathbb{R}^d$ is a map with component $(\\Phi_i)_{1 \\leq i \\leq d}$, where $\\Phi_i(x_a,x_w) = \\rho_a(\\lambda_i) + \\frac{T_a(\\lambda_i)\\rho_w(\\lambda_i)}{1-S_a(\\lambda_i)\\rho_w(\\lambda_i)}$.\n",
      "\n",
      "In the Bayesian approach, x_a, x_w and y in ***(2.7)*** are treated as ***random variables***, making ***(2.7)*** a statistical model. Thus any vector of measurements $y^{obs}$ is considered a realization of the random vector $y$ in ***(2.7)***.\n",
      "\n",
      "The last thing to do to complete the definition of the model is to define a distribution $\\mathbb{P}_\\epsilon$ for the noise $\\epsilon$ and a distibution for the pair $(x_a,x_w)$. This distribution $(x_a,x_w)$ is called a ***prior distribution***, i.e. it describes what we know about $x_a$ and $x_w$ prior to collecting the data $y$.\n",
      "\n",
      "No correlation between atmospheric and marine reflectance is expected so this prior distribution will be of the form $\\mathbb{P}_{xa}\\otimes\\mathbb{P}_{xw}$, where $\\mathbb{P}_{xa}$ and $\\mathbb{P}_{xw}$ are probability measures on $\\mathbb{R}^{3d} and \\mathbb{R}^d$,respectively.\n",
      "\n",
      "The prior distribution allows incorporating constraints in the model. That is, considering the prior distributions $\\mathbb{P}_{xa}$ and $\\mathbb{P}_{xw}$ with support in the constraint sets $X_a$ and $X_w$ implies a model specification where $x_a$ and $x_w$ must belong to the constraint sets $X_a$ and $X_w$.\n",
      "\n",
      "The noise $\\epsilon$ in ***(2.7)*** is considered independent from $(x_a,x_w)$. So the prior distribution together with the noise distribution completely specifies the joint distribution of $(x_a,x_w,y)$."
     ]
    },
    {
     "cell_type": "markdown",
     "metadata": {},
     "source": [
      "\n",
      "\n",
      "**What we get** is called the ***posterior distribution***, $\\mathbb{P_{(x_a,x_w)|y}}$. In essence it is the conditional distribution of $(x_a,x_w)$ given $y$, and corresponds to the Bayesian solution to retrieving $(x_a,x_w)$ from $y$.\n",
      "\n",
      "Put differently, given the set of observations $y^{obs}$, the solution is expressed as the probability measure $\\mathbb{P}_{(x_a,x_w)|y=y^{obs}}$.\n",
      "\n",
      "**The computational feasibility** limits what can be estimated because of the richness of the distribution. Thus the objective generally includes estimating relevant characteristics of the posterior distribution such as the mean, modes, or covariance matrix. Here only mean and cov.mat. will be considered."
     ]
    },
    {
     "cell_type": "heading",
     "level": 5,
     "metadata": {},
     "source": [
      "c) Inverse applications to be implemented in practice"
     ]
    },
    {
     "cell_type": "markdown",
     "metadata": {},
     "source": [
      "\n",
      "The proposed steps are as follows:\n",
      "\n",
      "* *Step 1*: \n",
      "    - define prior distribution\n",
      "    - define noise distribution\n",
      "    - both must be suitable for utilization at a global scale\n",
      "\n",
      "* *Step 2*:\n",
      "    - define model approximating the mean of the conditional distribution\n",
      "    - define model approximating the cov. of the conditional distribution.\n",
      "    \n",
      "    --> Remember that the conditional distribution provides estimates for the marine reflectance.\n",
      "    \n",
      "    - attach a measure of uncertainty to conditional distribution\n",
      " \n",
      "* *Step 3*:\n",
      "    Introduce a parameter, the $p$-value, to detect unlikely $y^{obs}$ that may originate from the model ***(2.7)***. \n",
      "    \n",
      "    This might happen if observations $y^{obs}$ *corresponding to a water type not included in the support of the prior distribution* so that $y^{obs}$ lies far off the range of $\\Phi$ in ***(2.7)***."
     ]
    },
    {
     "cell_type": "markdown",
     "metadata": {},
     "source": [
      "**Forward modeling**\n",
      "\n",
      "* **Prior distribution** on marine/atmospheric parameters describes (in frequencies) what is known about them *before* satellite data acquisition.\n",
      "    - E.g. Locations/times where/when only open ocean marine spectra will be encountered requires the corresponding prior distribution $\\mathbb{P}_{x_w}$ to reflect that. \n",
      "    - This is achieved by having its support $X_w$ be composed only of spectra of this type.  \n",
      "    \n",
      "* **Marine reflectance prior distribution, $\\mathbb{P}_{x_w}$ ** \n",
      "\n",
      "    - first define a compact set $X_w$ composed of realistic values of the marine reflectance encountered at global scale\n",
      "    - if no other information available (e.g. *owt* relative proportion) uniform measure on $Xw$ is the prior distribution.\n",
      "    - One approach of defining $X_w$; use *in-situ* marine reflectance data (e.g. NOMAD dataset and data from AERONET-OC sites).\n",
      "\n",
      "* **Atmospheric parameters prior distribution, $\\mathbb{P}_{x_a}$**\n",
      "\n",
      "    - $x_a$ is expressed as a function $\\Phi_a$ of parameters $\\theta_a\\in\\Theta_a$ \n",
      "    - $\\theta_a$ is composed of \n",
      "        - physical variables w/ known range (pressure, wind speed)\n",
      "        - variables related to modeling of aerosol optical properties\n",
      "    - uniform distributions are used for all these quantities except aerosol optical thickness (*AOT*)\n",
      "    - log-normal distribution used for *AOT* (*cf. Knobelspiesse et al. 2004*)\n",
      "\n",
      "* **Noise prior distribution, $\\mathbb{P}_\\epsilon$**\n",
      "\n",
      "    - $\\mathbb{P}_\\epsilon$ describes frequencies of magnitude by which actual observations deviate from physical forward modeling.\n",
      "    - $\\epsilon$ is considered a **gaussian random vector** on $\\mathbb{R}^d$, with $\\mathbb{E}(\\epsilon)=0$ and $Cov(\\epsilon)=\\sigma^2Id_{\\mathbb{R}^d}$\n",
      "        - $\\sigma$, which governs the global noise level has to be properly selected. Thus, a large number of *TOA* observations are considered and $\\sigma$ is estimated by maximum likelihood."
     ]
    },
    {
     "cell_type": "markdown",
     "metadata": {},
     "source": [
      "**Inverse applications**\n",
      "* *prior distribution* $\\mathbb{P}_{x_a} \\otimes \\mathbb{P}_{x_w}$ and the noise distribution $\\mathbb{P}_\\epsilon$ are defined above. \n",
      "* Hereafter $(x_a,x_w)$ denotes a random vector w/ distrib. $\\mathbb{P}_{x_a} \\otimes \\mathbb{P}_{x_w}$ \n",
      "* $\\epsilon$ is a random vector independent from $(x_a,x_w)$ & w/ distrib. $\\mathbb{P}_\\epsilon$\n",
      "* $y$ has distrib. induced by ***(2.7)***.\n",
      "\n",
      "Let:\n",
      "* $r(y^{obs}) = \\mathbb{E}\\left[x_w|y=y^{obs}\\right]$ be the conditional mean of marine reflectance given the observation $y^{obs}$\n",
      "* $\\Sigma(y^{obs}) = Cov(x_w|y=y^{obs})$ be the conditional covariance of marine reflectance given the observation $y^{obs}$."
     ]
    },
    {
     "cell_type": "markdown",
     "metadata": {},
     "source": [
      "How to choose from the very large variety of numerical procedures/models that can be employed to numerically approximate the applicaitons $r$ and $\\Sigma$? Keeping in mind the following objectives...\n",
      "\n",
      "* the models must be fast in execution, suitable for operational use\n",
      "* the theoretical applications $r$ and $\\Sigma$ must be approximated w/ a guaranteed accurancy within reasonable computation time.\n",
      "\n",
      "For the above:  define models based on a common partition of $\\mathbb{R}^d$, either constant or linear above ea. element of the partition [*... to be continued, moving to another section that goes into the earlier material*]"
     ]
    },
    {
     "cell_type": "heading",
     "level": 3,
     "metadata": {},
     "source": [
      "3 How to model the satellite signal"
     ]
    },
    {
     "cell_type": "markdown",
     "metadata": {},
     "source": [
      "Includes:\n",
      "\n",
      "* parameterization, computations and approximations used for terms appearing in the d satellite signal decomposition (**(2.1)**)\n",
      "* justification of this decomposition\n",
      "\n",
      "Note that erros introduced by the various parameterizations, simplifications and other uncertainties in the radiative transfer modeling are takin into account in the Bayesian inversion via $\\epsilon$ of eqn. **(2.6)**"
     ]
    },
    {
     "cell_type": "heading",
     "level": 4,
     "metadata": {},
     "source": [
      "3.1 Gaseous absorption"
     ]
    },
    {
     "cell_type": "markdown",
     "metadata": {},
     "source": [
      "Remember **(2.1)**:\n",
      "$$\\rho_{toa}= T_g\\left[\\rho_{mol}+\\rho_{aer}+\\rho_{mol-g}+\\rho_{aer-g}+\\rho_{mol-aer}+\\rho_gt_a+ \\frac{T_a\\rho_f}{1-S_a\\rho_f}+\\frac{T_a\\rho_\\omega}{1-S_a\\rho_w}\\right]$$"
     ]
    },
    {
     "cell_type": "markdown",
     "metadata": {},
     "source": [
      "Here:\n",
      "\n",
      "* **(2.1)** decouples scattering effects of molecules and aerosols from absorption effects by atmospheric gases\n",
      "* gaseous transmittance is evaluated along direct *sun-to-surface* and *surface-to-sensor* paths. Justification for various gases\n",
      "    - $O_3$, \n",
      "        - high in the atm., where molecs. and aers. are rarefied; \n",
      "        - virtually no scattering of incident and detected photons crossing the $O_3$ layer.\n",
      "    - $H_2O^g$, \n",
      "        - absoprtion occur where molec. scattering is weak, i.e. aero. scattering dominates \n",
      "        - $\\gt 850 nm$, order 1 and 2 scattering events constitue the quasi totality of aerosol scattering\n",
      "        - aerosols scatter mostly forward, so scatter path, almost same as direct paths mentioned above\n",
      "    - $N_2O$ and $O_2$,\n",
      "        - sufficiently accurate when gaseous absorption is weak (Deschamps *et al*., 1983)\n",
      "        - gaseous absorption is generally weak in the spectral bands of ocean color sensors\n",
      "* Thus for measurements in spectral bands contaminated by gaseous absorption, $T_g$ is expressed as \n",
      "\n",
      "$$T_g = \\prod_i t_{g,i} (\\phi_s,phi_v,U_i)\\ (3.1),$$\n",
      "\n",
      "* where $t_{g,i}$ and $U_i$ are transmittance (calculated for both direct paths) and amount of gaseous absorber $\\bf{i}$, respectively\n",
      "    - Analytical expressions are obtained for $t_{g,i}$ in each spectral band by fitting random exponential band models\n",
      "        - after **Goody (1964)** for $H_2O^g$\n",
      "        - after **Malkmus (1967)** for other gases\n",
      "        - all the above is modified to account for variations of temperature and pressure along the atmospheric path after **Buriez and Fouquart (1980)**"
     ]
    },
    {
     "cell_type": "code",
     "collapsed": false,
     "input": [],
     "language": "python",
     "metadata": {},
     "outputs": []
    }
   ],
   "metadata": {}
  }
 ]
}
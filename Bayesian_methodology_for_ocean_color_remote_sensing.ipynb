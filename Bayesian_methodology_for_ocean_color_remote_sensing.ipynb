{
 "metadata": {
  "name": "",
  "signature": "sha256:3e8d5c7f30e43f9de4006fcda9c3089243e93585066193e37e1c1f568c136a60"
 },
 "nbformat": 3,
 "nbformat_minor": 0,
 "worksheets": [
  {
   "cells": [
    {
     "cell_type": "heading",
     "level": 3,
     "metadata": {},
     "source": [
      "1 - Introduction"
     ]
    },
    {
     "cell_type": "markdown",
     "metadata": {},
     "source": [
      "Here, I reproduce Frouin & Pelletier's 2013 theoretical and practical development of the application of a bayesian framework to ocean color remote sensing. Accordingly, this document includes:\n",
      "   --> A formulation of the atmospheric correction problem at a certain depth of pysical modeling (?) using ANGULAR DECOUPLING. This yields (a) a prior distribution suitable for use at a global scale and (b) a noise model.\n",
      "   --> A definition and implementation of numerical approximations of the expectation and covariance of the posterior distribution, i.e. a complete Bayesian solution. This is developed for the marine reflectance as well as for the atmospheric parameters. These quantities are retrieved simultaneously from the TOA reflectance. Measures of uncertainties are provided along with the retrievals.\n",
      "   --> A definition and implementation of a model defining cases where this doesn't work on account of the observed TOA reflectance observed.\n",
      " "
     ]
    },
    {
     "cell_type": "heading",
     "level": 3,
     "metadata": {},
     "source": [
      "2 - Problem, proposed solution and applications "
     ]
    },
    {
     "cell_type": "heading",
     "level": 5,
     "metadata": {},
     "source": [
      "    a) The inverse problem of atmospheric correction"
     ]
    },
    {
     "cell_type": "markdown",
     "metadata": {},
     "source": [
      "$L_{toa}$, the radiance measured by the sensor in a given spectral band is given as:\n",
      "\n",
      "$\\rho_{toa} = \\frac{\\pi L_{toa} } {F_s \\cos(\\theta_s)}$ \n",
      "\n",
      "...where,\n",
      "    \n",
      "* $\\rho_{toa}$: bidirectional reflectance;\n",
      "* $F_s$: extraterrestrial solar irradiance;\n",
      "* $\\theta$: sun zenith angle\n"
     ]
    },
    {
     "cell_type": "markdown",
     "metadata": {},
     "source": [
      "In clear sky conditions $\\rho_{toa}$ is modeled as:\n",
      "\n",
      "$\\rho_{toa}= T_g\\left[\\rho_{mol}+\\rho_{aer}+\\rho_{mol-g}+\\rho_{aer-g}+\\rho_{mol-aer}+\\rho_gt_a+ \\frac{T_a\\rho_f}{1-S_a\\rho_f}+\\frac{T_a\\rho_\\omega}{1-S_a\\rho_w}\\right]$               **(2.1)**,\n",
      "\n",
      "where...\n",
      "\n",
      "* $T_g$: gaseous transmittance (absorption of photons by $N_2O$, $O_2$, $O_3$, and $H_2O(g)$  )\n",
      "* $\\rho_{mol}$: molecular reflectance (multiple scattering of photons by molecules)\n",
      "* $\\rho_{aer}$: aerosol reflectance (multiple scattering of photons by aerosols)\n",
      "* $\\rho_{mol-g}$: interactions of molecules and photons reflected by a wavy surface\n",
      "* $\\rho_{aer-g}$: interactions of aerosoles and photons reflected by a wavy surface\n",
      "* $\\rho_{mol-aer}$: coupling between molecule-scattering and aerosol-scattering and -absorption.\n",
      "* $\\rho_g$: sun glint reflectance\n",
      "* $t_a$: direct transmittance of atm. along the sun-to-surface-to-sensor path\n",
      "* $T_a$: total (direct + diffuse) trasmittance of atm along sun-to-surface-to-sensor path\n",
      "* $\\rho_f$: backscattering of photons by whitecaps\n",
      "* $S_a$: spherical albedo of atm (*i.e.* successive photon interactions w/surface, atm., and surface again.\n",
      "* $\\rho_{\\omega}$: water reflectance \n"
     ]
    },
    {
     "cell_type": "markdown",
     "metadata": {},
     "source": [
      "$\\rho_{toa}$, from the atmosphere and surface, with only molecules considered and $\\rho_w = 0$ reduces to:\n",
      "\n",
      "$\\rho^0_{toa}=Tg\\left[\\rho_{mol} +\\rho_{mol-g} + \\rho_gt_{mol}+\\frac{T_{mol}\\rho_f}{1-S_{mol}\\rho_f}\\right]$          **(2.2)**, \n",
      "\n",
      "where...\n",
      "* $t_{mol}$: direct transmittance of molecules\n",
      "* $T_{mol}$: total transmittance of molecules\n",
      "* $S_{mol}$: spherical albedo for molecules\n",
      "\n",
      "*Note that the inside of (2.2) can be computed from atm pressure and wind speed and $T_g$ can be approximated*"
     ]
    },
    {
     "cell_type": "markdown",
     "metadata": {},
     "source": [
      "Now, define $\\rho$ and $\\rho_a$ as:\n",
      "\n",
      "$\\rho=\\frac{1}{T_g}(\\rho_{toa} - \\rho^0_{toa})$ **(2.3)**,\n",
      "\n",
      "and \n",
      "\n",
      "$\\rho_a=\\rho_{aer}+\\rho_{aer-g}+\\rho_{mol-aer}+\\rho_gt_{mol}+\\frac{T_a\\rho_f}{1-S_a\\rho_f}-\\frac{T_{mol}\\rho_f}{1-S_{mol}\\rho_f}$ **(2.4)**,\n",
      "\n",
      "which yields\n",
      "\n",
      "$\\rho = \\rho_a + \\frac{T_a\\rho_w}{1-S_a\\rho_w}$ **(2.5)**.\n",
      "\n",
      "These last three steps correct for gaseous absorption and remove molecular contribution resulting in  increasing the influnence of the ocean signal on $\\rho$, and diminish the influence of air pressure and wind speed."
     ]
    },
    {
     "cell_type": "markdown",
     "metadata": {},
     "source": [
      "In reality measurement errors and model uncertainties need to be accounted for so that the theoretical model is mutated to a statistical model with the introduction of a random noise term, $\\epsilon$, such that :\n",
      "\n",
      "$\\rho=\\rho_a+\\frac{T_a\\rho_w}{1-S_a\\rho_w} + \\epsilon$ **(2.6)**.\n",
      "\n",
      "Note that the above is function of wavelength $\\lambda$, so that we have $y_i=\\rho_i(\\lambda_i)$\n",
      "\n",
      "*Finally, realize that atmospheric correction is estimating $\\rho_w$ from $y$ without knowledge of $\\rho_a$, $T_a$, and $S_a$. Furthermore, since only y is observed, atmospheric correction is only one part of the complete inverse problem of estimating both the atmospheric ($\\rho_a,T_a,S_a$) and oceanic ($\\rho_w$), even if interest is only in the latter.* "
     ]
    },
    {
     "cell_type": "heading",
     "level": 5,
     "metadata": {},
     "source": [
      "    b) Proposed Bayesian solution"
     ]
    },
    {
     "cell_type": "code",
     "collapsed": false,
     "input": [],
     "language": "python",
     "metadata": {},
     "outputs": []
    },
    {
     "cell_type": "heading",
     "level": 5,
     "metadata": {},
     "source": [
      "    c) Inverse applications to be implemented in practice"
     ]
    },
    {
     "cell_type": "code",
     "collapsed": false,
     "input": [],
     "language": "python",
     "metadata": {},
     "outputs": []
    }
   ],
   "metadata": {}
  }
 ]
}